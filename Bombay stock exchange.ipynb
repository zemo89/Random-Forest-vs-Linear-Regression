{
 "cells": [
  {
   "cell_type": "code",
   "execution_count": 11,
   "metadata": {},
   "outputs": [
    {
     "data": {
      "text/html": [
       "<div>\n",
       "<style scoped>\n",
       "    .dataframe tbody tr th:only-of-type {\n",
       "        vertical-align: middle;\n",
       "    }\n",
       "\n",
       "    .dataframe tbody tr th {\n",
       "        vertical-align: top;\n",
       "    }\n",
       "\n",
       "    .dataframe thead th {\n",
       "        text-align: right;\n",
       "    }\n",
       "</style>\n",
       "<table border=\"1\" class=\"dataframe\">\n",
       "  <thead>\n",
       "    <tr style=\"text-align: right;\">\n",
       "      <th></th>\n",
       "      <th>Symbol</th>\n",
       "      <th>Date</th>\n",
       "      <th>Open</th>\n",
       "      <th>High</th>\n",
       "      <th>Low</th>\n",
       "      <th>Close</th>\n",
       "      <th>Adj Close</th>\n",
       "      <th>Volume</th>\n",
       "    </tr>\n",
       "  </thead>\n",
       "  <tbody>\n",
       "    <tr>\n",
       "      <th>0</th>\n",
       "      <td>ADANIPORTS</td>\n",
       "      <td>5/6/2008</td>\n",
       "      <td>150.000000</td>\n",
       "      <td>153.570007</td>\n",
       "      <td>147.820007</td>\n",
       "      <td>151.149994</td>\n",
       "      <td>134.313477</td>\n",
       "      <td>1782030.0</td>\n",
       "    </tr>\n",
       "    <tr>\n",
       "      <th>1</th>\n",
       "      <td>ADANIPORTS</td>\n",
       "      <td>5/7/2008</td>\n",
       "      <td>152.000000</td>\n",
       "      <td>154.460007</td>\n",
       "      <td>150.240005</td>\n",
       "      <td>153.309998</td>\n",
       "      <td>136.232864</td>\n",
       "      <td>1180015.0</td>\n",
       "    </tr>\n",
       "    <tr>\n",
       "      <th>2</th>\n",
       "      <td>ADANIPORTS</td>\n",
       "      <td>5/8/2008</td>\n",
       "      <td>152.199997</td>\n",
       "      <td>156.759995</td>\n",
       "      <td>150.199997</td>\n",
       "      <td>155.889999</td>\n",
       "      <td>138.525497</td>\n",
       "      <td>1856245.0</td>\n",
       "    </tr>\n",
       "    <tr>\n",
       "      <th>3</th>\n",
       "      <td>ADANIPORTS</td>\n",
       "      <td>5/9/2008</td>\n",
       "      <td>155.000000</td>\n",
       "      <td>160.600006</td>\n",
       "      <td>154.210007</td>\n",
       "      <td>156.520004</td>\n",
       "      <td>139.085312</td>\n",
       "      <td>3251375.0</td>\n",
       "    </tr>\n",
       "    <tr>\n",
       "      <th>4</th>\n",
       "      <td>ADANIPORTS</td>\n",
       "      <td>5/12/2008</td>\n",
       "      <td>156.000000</td>\n",
       "      <td>163.479996</td>\n",
       "      <td>151.000000</td>\n",
       "      <td>162.500000</td>\n",
       "      <td>144.399170</td>\n",
       "      <td>5031635.0</td>\n",
       "    </tr>\n",
       "  </tbody>\n",
       "</table>\n",
       "</div>"
      ],
      "text/plain": [
       "       Symbol       Date        Open        High         Low       Close  \\\n",
       "0  ADANIPORTS   5/6/2008  150.000000  153.570007  147.820007  151.149994   \n",
       "1  ADANIPORTS   5/7/2008  152.000000  154.460007  150.240005  153.309998   \n",
       "2  ADANIPORTS   5/8/2008  152.199997  156.759995  150.199997  155.889999   \n",
       "3  ADANIPORTS   5/9/2008  155.000000  160.600006  154.210007  156.520004   \n",
       "4  ADANIPORTS  5/12/2008  156.000000  163.479996  151.000000  162.500000   \n",
       "\n",
       "    Adj Close     Volume  \n",
       "0  134.313477  1782030.0  \n",
       "1  136.232864  1180015.0  \n",
       "2  138.525497  1856245.0  \n",
       "3  139.085312  3251375.0  \n",
       "4  144.399170  5031635.0  "
      ]
     },
     "execution_count": 11,
     "metadata": {},
     "output_type": "execute_result"
    }
   ],
   "source": [
    "import numpy as np\n",
    "import pandas as pd\n",
    "import warnings\n",
    "import matplotlib.pyplot as plt\n",
    "import seaborn as sns\n",
    "\n",
    "BSE_df = pd.read_csv(\"BSE_30.csv\")\n",
    "BSE_df.head()\n"
   ]
  },
  {
   "cell_type": "code",
   "execution_count": 10,
   "metadata": {},
   "outputs": [
    {
     "data": {
      "image/png": "[encoded data removed]",
      "text/plain": [
       "<Figure size 432x288 with 1 Axes>"
      ]
     },
     "metadata": {},
     "output_type": "display_data"
    }
   ],
   "source": [
    "plt.plot(BSE_df.Close)\n",
    "plt.xlabel(\"Time\")\n",
    "plt.ylabel(\"Close price\")\n",
    "plt.show()"
   ]
  },
  {
   "cell_type": "code",
   "execution_count": 13,
   "metadata": {},
   "outputs": [
    {
     "data": {
      "text/html": [
       "<div>\n",
       "<style scoped>\n",
       "    .dataframe tbody tr th:only-of-type {\n",
       "        vertical-align: middle;\n",
       "    }\n",
       "\n",
       "    .dataframe tbody tr th {\n",
       "        vertical-align: top;\n",
       "    }\n",
       "\n",
       "    .dataframe thead th {\n",
       "        text-align: right;\n",
       "    }\n",
       "</style>\n",
       "<table border=\"1\" class=\"dataframe\">\n",
       "  <thead>\n",
       "    <tr style=\"text-align: right;\">\n",
       "      <th></th>\n",
       "      <th>Date</th>\n",
       "      <th>Close</th>\n",
       "    </tr>\n",
       "  </thead>\n",
       "  <tbody>\n",
       "    <tr>\n",
       "      <th>0</th>\n",
       "      <td>5/6/2008</td>\n",
       "      <td>151.149994</td>\n",
       "    </tr>\n",
       "    <tr>\n",
       "      <th>1</th>\n",
       "      <td>5/7/2008</td>\n",
       "      <td>153.309998</td>\n",
       "    </tr>\n",
       "    <tr>\n",
       "      <th>2</th>\n",
       "      <td>5/8/2008</td>\n",
       "      <td>155.889999</td>\n",
       "    </tr>\n",
       "    <tr>\n",
       "      <th>3</th>\n",
       "      <td>5/9/2008</td>\n",
       "      <td>156.520004</td>\n",
       "    </tr>\n",
       "    <tr>\n",
       "      <th>4</th>\n",
       "      <td>5/12/2008</td>\n",
       "      <td>162.500000</td>\n",
       "    </tr>\n",
       "  </tbody>\n",
       "</table>\n",
       "</div>"
      ],
      "text/plain": [
       "        Date       Close\n",
       "0   5/6/2008  151.149994\n",
       "1   5/7/2008  153.309998\n",
       "2   5/8/2008  155.889999\n",
       "3   5/9/2008  156.520004\n",
       "4  5/12/2008  162.500000"
      ]
     },
     "execution_count": 13,
     "metadata": {},
     "output_type": "execute_result"
    }
   ],
   "source": [
    "BSE_df = BSE_df[[\"Date\",\"Close\"]]\n",
    "BSE_df.head()"
   ]
  },
  {
   "cell_type": "code",
   "execution_count": 19,
   "metadata": {},
   "outputs": [
    {
     "data": {
      "text/html": [
       "<div>\n",
       "<style scoped>\n",
       "    .dataframe tbody tr th:only-of-type {\n",
       "        vertical-align: middle;\n",
       "    }\n",
       "\n",
       "    .dataframe tbody tr th {\n",
       "        vertical-align: top;\n",
       "    }\n",
       "\n",
       "    .dataframe thead th {\n",
       "        text-align: right;\n",
       "    }\n",
       "</style>\n",
       "<table border=\"1\" class=\"dataframe\">\n",
       "  <thead>\n",
       "    <tr style=\"text-align: right;\">\n",
       "      <th></th>\n",
       "      <th>Date</th>\n",
       "      <th>Close</th>\n",
       "      <th>gain</th>\n",
       "    </tr>\n",
       "  </thead>\n",
       "  <tbody>\n",
       "    <tr>\n",
       "      <th>0</th>\n",
       "      <td>5/6/2008</td>\n",
       "      <td>151.149994</td>\n",
       "      <td>NaN</td>\n",
       "    </tr>\n",
       "    <tr>\n",
       "      <th>1</th>\n",
       "      <td>5/7/2008</td>\n",
       "      <td>153.309998</td>\n",
       "      <td>0.014290</td>\n",
       "    </tr>\n",
       "    <tr>\n",
       "      <th>2</th>\n",
       "      <td>5/8/2008</td>\n",
       "      <td>155.889999</td>\n",
       "      <td>0.016829</td>\n",
       "    </tr>\n",
       "    <tr>\n",
       "      <th>3</th>\n",
       "      <td>5/9/2008</td>\n",
       "      <td>156.520004</td>\n",
       "      <td>0.004041</td>\n",
       "    </tr>\n",
       "    <tr>\n",
       "      <th>4</th>\n",
       "      <td>5/12/2008</td>\n",
       "      <td>162.500000</td>\n",
       "      <td>0.038206</td>\n",
       "    </tr>\n",
       "  </tbody>\n",
       "</table>\n",
       "</div>"
      ],
      "text/plain": [
       "        Date       Close      gain\n",
       "0   5/6/2008  151.149994       NaN\n",
       "1   5/7/2008  153.309998  0.014290\n",
       "2   5/8/2008  155.889999  0.016829\n",
       "3   5/9/2008  156.520004  0.004041\n",
       "4  5/12/2008  162.500000  0.038206"
      ]
     },
     "execution_count": 19,
     "metadata": {},
     "output_type": "execute_result"
    }
   ],
   "source": [
    "BSE_df['gain'] = BSE_df.Close.pct_change(periods = 1)\n",
    "BSE_df.head()"
   ]
  },
  {
   "cell_type": "code",
   "execution_count": 21,
   "metadata": {},
   "outputs": [
    {
     "data": {
      "text/html": [
       "<div>\n",
       "<style scoped>\n",
       "    .dataframe tbody tr th:only-of-type {\n",
       "        vertical-align: middle;\n",
       "    }\n",
       "\n",
       "    .dataframe tbody tr th {\n",
       "        vertical-align: top;\n",
       "    }\n",
       "\n",
       "    .dataframe thead th {\n",
       "        text-align: right;\n",
       "    }\n",
       "</style>\n",
       "<table border=\"1\" class=\"dataframe\">\n",
       "  <thead>\n",
       "    <tr style=\"text-align: right;\">\n",
       "      <th></th>\n",
       "      <th>Date</th>\n",
       "      <th>Close</th>\n",
       "      <th>gain</th>\n",
       "    </tr>\n",
       "  </thead>\n",
       "  <tbody>\n",
       "    <tr>\n",
       "      <th>1</th>\n",
       "      <td>5/7/2008</td>\n",
       "      <td>153.309998</td>\n",
       "      <td>0.014290</td>\n",
       "    </tr>\n",
       "    <tr>\n",
       "      <th>2</th>\n",
       "      <td>5/8/2008</td>\n",
       "      <td>155.889999</td>\n",
       "      <td>0.016829</td>\n",
       "    </tr>\n",
       "    <tr>\n",
       "      <th>3</th>\n",
       "      <td>5/9/2008</td>\n",
       "      <td>156.520004</td>\n",
       "      <td>0.004041</td>\n",
       "    </tr>\n",
       "    <tr>\n",
       "      <th>4</th>\n",
       "      <td>5/12/2008</td>\n",
       "      <td>162.500000</td>\n",
       "      <td>0.038206</td>\n",
       "    </tr>\n",
       "    <tr>\n",
       "      <th>5</th>\n",
       "      <td>5/13/2008</td>\n",
       "      <td>158.479996</td>\n",
       "      <td>-0.024738</td>\n",
       "    </tr>\n",
       "  </tbody>\n",
       "</table>\n",
       "</div>"
      ],
      "text/plain": [
       "        Date       Close      gain\n",
       "1   5/7/2008  153.309998  0.014290\n",
       "2   5/8/2008  155.889999  0.016829\n",
       "3   5/9/2008  156.520004  0.004041\n",
       "4  5/12/2008  162.500000  0.038206\n",
       "5  5/13/2008  158.479996 -0.024738"
      ]
     },
     "execution_count": 21,
     "metadata": {},
     "output_type": "execute_result"
    }
   ],
   "source": [
    "BSE_df = BSE_df.dropna()\n",
    "BSE_df.head()"
   ]
  },
  {
   "cell_type": "code",
   "execution_count": 23,
   "metadata": {},
   "outputs": [
    {
     "data": {
      "image/png": "[encoded data removed]",
      "text/plain": [
       "<Figure size 720x432 with 1 Axes>"
      ]
     },
     "metadata": {},
     "output_type": "display_data"
    }
   ],
   "source": [
    "plt.figure(figsize = (10,6))\n",
    "plt.plot(BSE_df.index , BSE_df.gain)\n",
    "plt.xlabel(\"Time\")\n",
    "plt.ylabel(\"gain\")\n",
    "plt.show()"
   ]
  },
  {
   "cell_type": "code",
   "execution_count": 5,
   "metadata": {},
   "outputs": [
    {
     "data": {
      "image/png": "[encoded data removed]",
      "text/plain": [
       "<Figure size 720x576 with 1 Axes>"
      ]
     },
     "metadata": {},
     "output_type": "display_data"
    }
   ],
   "source": [
    "import numpy as np\n",
    "import pandas as pd\n",
    "import matplotlib.pyplot as plt\n",
    "import seaborn as sns\n",
    "\n",
    "df = pd.read_csv(\"BSE_30.csv\")\n",
    "df.head()\n",
    "\n",
    "plt.figure(figsize = (10,8))\n",
    "plt.plot(df.Close)\n",
    "plt.xlabel(\"Time\")\n",
    "plt.ylabel(\"Close\")\n",
    "plt.show()"
   ]
  },
  {
   "cell_type": "code",
   "execution_count": 8,
   "metadata": {},
   "outputs": [
    {
     "data": {
      "text/html": [
       "<div>\n",
       "<style scoped>\n",
       "    .dataframe tbody tr th:only-of-type {\n",
       "        vertical-align: middle;\n",
       "    }\n",
       "\n",
       "    .dataframe tbody tr th {\n",
       "        vertical-align: top;\n",
       "    }\n",
       "\n",
       "    .dataframe thead th {\n",
       "        text-align: right;\n",
       "    }\n",
       "</style>\n",
       "<table border=\"1\" class=\"dataframe\">\n",
       "  <thead>\n",
       "    <tr style=\"text-align: right;\">\n",
       "      <th></th>\n",
       "      <th>Date</th>\n",
       "      <th>Close</th>\n",
       "    </tr>\n",
       "  </thead>\n",
       "  <tbody>\n",
       "    <tr>\n",
       "      <th>0</th>\n",
       "      <td>5/6/2008</td>\n",
       "      <td>151.149994</td>\n",
       "    </tr>\n",
       "    <tr>\n",
       "      <th>1</th>\n",
       "      <td>5/7/2008</td>\n",
       "      <td>153.309998</td>\n",
       "    </tr>\n",
       "    <tr>\n",
       "      <th>2</th>\n",
       "      <td>5/8/2008</td>\n",
       "      <td>155.889999</td>\n",
       "    </tr>\n",
       "    <tr>\n",
       "      <th>3</th>\n",
       "      <td>5/9/2008</td>\n",
       "      <td>156.520004</td>\n",
       "    </tr>\n",
       "    <tr>\n",
       "      <th>4</th>\n",
       "      <td>5/12/2008</td>\n",
       "      <td>162.500000</td>\n",
       "    </tr>\n",
       "  </tbody>\n",
       "</table>\n",
       "</div>"
      ],
      "text/plain": [
       "        Date       Close\n",
       "0   5/6/2008  151.149994\n",
       "1   5/7/2008  153.309998\n",
       "2   5/8/2008  155.889999\n",
       "3   5/9/2008  156.520004\n",
       "4  5/12/2008  162.500000"
      ]
     },
     "execution_count": 8,
     "metadata": {},
     "output_type": "execute_result"
    }
   ],
   "source": [
    "df = df[[\"Date\",\"Close\"]]\n",
    "df.head()"
   ]
  },
  {
   "cell_type": "code",
   "execution_count": 13,
   "metadata": {},
   "outputs": [
    {
     "data": {
      "text/html": [
       "<div>\n",
       "<style scoped>\n",
       "    .dataframe tbody tr th:only-of-type {\n",
       "        vertical-align: middle;\n",
       "    }\n",
       "\n",
       "    .dataframe tbody tr th {\n",
       "        vertical-align: top;\n",
       "    }\n",
       "\n",
       "    .dataframe thead th {\n",
       "        text-align: right;\n",
       "    }\n",
       "</style>\n",
       "<table border=\"1\" class=\"dataframe\">\n",
       "  <thead>\n",
       "    <tr style=\"text-align: right;\">\n",
       "      <th></th>\n",
       "      <th>Date</th>\n",
       "      <th>Close</th>\n",
       "      <th>gain</th>\n",
       "    </tr>\n",
       "  </thead>\n",
       "  <tbody>\n",
       "    <tr>\n",
       "      <th>1</th>\n",
       "      <td>5/7/2008</td>\n",
       "      <td>153.309998</td>\n",
       "      <td>0.014290</td>\n",
       "    </tr>\n",
       "    <tr>\n",
       "      <th>2</th>\n",
       "      <td>5/8/2008</td>\n",
       "      <td>155.889999</td>\n",
       "      <td>0.016829</td>\n",
       "    </tr>\n",
       "    <tr>\n",
       "      <th>3</th>\n",
       "      <td>5/9/2008</td>\n",
       "      <td>156.520004</td>\n",
       "      <td>0.004041</td>\n",
       "    </tr>\n",
       "    <tr>\n",
       "      <th>4</th>\n",
       "      <td>5/12/2008</td>\n",
       "      <td>162.500000</td>\n",
       "      <td>0.038206</td>\n",
       "    </tr>\n",
       "    <tr>\n",
       "      <th>5</th>\n",
       "      <td>5/13/2008</td>\n",
       "      <td>158.479996</td>\n",
       "      <td>-0.024738</td>\n",
       "    </tr>\n",
       "  </tbody>\n",
       "</table>\n",
       "</div>"
      ],
      "text/plain": [
       "        Date       Close      gain\n",
       "1   5/7/2008  153.309998  0.014290\n",
       "2   5/8/2008  155.889999  0.016829\n",
       "3   5/9/2008  156.520004  0.004041\n",
       "4  5/12/2008  162.500000  0.038206\n",
       "5  5/13/2008  158.479996 -0.024738"
      ]
     },
     "execution_count": 13,
     "metadata": {},
     "output_type": "execute_result"
    }
   ],
   "source": [
    "df[\"gain\"] = df.Close.pct_change(periods = 1)\n",
    "df.dropna().head()"
   ]
  },
  {
   "cell_type": "code",
   "execution_count": 15,
   "metadata": {},
   "outputs": [
    {
     "name": "stdout",
     "output_type": "stream",
     "text": [
      "mean =  0.0007\n",
      "standard deviation =  0.0384\n"
     ]
    }
   ],
   "source": [
    "print(\"mean = \",round(df.gain.mean(),4))\n",
    "print(\"standard deviation = \",round(df.gain.std(),4))"
   ]
  },
  {
   "cell_type": "code",
   "execution_count": 33,
   "metadata": {},
   "outputs": [
    {
     "name": "stdout",
     "output_type": "stream",
     "text": [
      "gain at 95% confidence =  [-0.0746  0.076 ]\n"
     ]
    }
   ],
   "source": [
    "from scipy import stats\n",
    "x = stats.norm.interval(0.95 , \n",
    "                        loc = df.gain.mean() , \n",
    "                        scale = df.gain.std())\n",
    "print(\"gain at 95% confidence = \",np.round(x,4))"
   ]
  },
  {
   "cell_type": "code",
   "execution_count": 2,
   "metadata": {},
   "outputs": [
    {
     "ename": "NameError",
     "evalue": "name 'df' is not defined",
     "output_type": "error",
     "traceback": [
      "\u001b[1;31m---------------------------------------------------------------------------\u001b[0m",
      "\u001b[1;31mNameError\u001b[0m                                 Traceback (most recent call last)",
      "\u001b[1;32m<ipython-input-2-a44a9b23caab>\u001b[0m in \u001b[0;36m<module>\u001b[1;34m()\u001b[0m\n\u001b[0;32m      1\u001b[0m \u001b[1;32mfrom\u001b[0m \u001b[0mscipy\u001b[0m \u001b[1;32mimport\u001b[0m \u001b[0mstats\u001b[0m\u001b[1;33m\u001b[0m\u001b[0m\n\u001b[0;32m      2\u001b[0m y = stats.norm.cdf(-0.1,\n\u001b[1;32m----> 3\u001b[1;33m                        \u001b[0mloc\u001b[0m \u001b[1;33m=\u001b[0m \u001b[0mdf\u001b[0m\u001b[1;33m.\u001b[0m\u001b[0mgain\u001b[0m\u001b[1;33m.\u001b[0m\u001b[0mmean\u001b[0m\u001b[1;33m(\u001b[0m\u001b[1;33m)\u001b[0m\u001b[1;33m,\u001b[0m\u001b[1;33m\u001b[0m\u001b[0m\n\u001b[0m\u001b[0;32m      4\u001b[0m                        scale = df.gain.std())\n\u001b[0;32m      5\u001b[0m \u001b[0mprint\u001b[0m\u001b[1;33m(\u001b[0m\u001b[1;34m\"making 20% profit = \"\u001b[0m\u001b[1;33m,\u001b[0m\u001b[0mnp\u001b[0m\u001b[1;33m.\u001b[0m\u001b[0mround\u001b[0m\u001b[1;33m(\u001b[0m\u001b[0my\u001b[0m\u001b[1;33m,\u001b[0m\u001b[1;36m4\u001b[0m\u001b[1;33m)\u001b[0m\u001b[1;33m)\u001b[0m\u001b[1;33m\u001b[0m\u001b[0m\n",
      "\u001b[1;31mNameError\u001b[0m: name 'df' is not defined"
     ]
    }
   ],
   "source": [
    "from scipy import stats\n",
    "y = stats.norm.cdf(-0.1,\n",
    "                       loc = df.gain.mean(),\n",
    "                       scale = df.gain.std())\n",
    "print(\"making 20% profit = \",np.round(y,4))"
   ]
  },
  {
   "cell_type": "code",
   "execution_count": 17,
   "metadata": {},
   "outputs": [
    {
     "data": {
      "text/html": [
       "<div>\n",
       "<style scoped>\n",
       "    .dataframe tbody tr th:only-of-type {\n",
       "        vertical-align: middle;\n",
       "    }\n",
       "\n",
       "    .dataframe tbody tr th {\n",
       "        vertical-align: top;\n",
       "    }\n",
       "\n",
       "    .dataframe thead th {\n",
       "        text-align: right;\n",
       "    }\n",
       "</style>\n",
       "<table border=\"1\" class=\"dataframe\">\n",
       "  <thead>\n",
       "    <tr style=\"text-align: right;\">\n",
       "      <th></th>\n",
       "      <th>Date</th>\n",
       "      <th>Close</th>\n",
       "      <th>gain</th>\n",
       "    </tr>\n",
       "  </thead>\n",
       "  <tbody>\n",
       "    <tr>\n",
       "      <th>1</th>\n",
       "      <td>5/7/2008</td>\n",
       "      <td>153.309998</td>\n",
       "      <td>0.014290</td>\n",
       "    </tr>\n",
       "    <tr>\n",
       "      <th>2</th>\n",
       "      <td>5/8/2008</td>\n",
       "      <td>155.889999</td>\n",
       "      <td>0.016829</td>\n",
       "    </tr>\n",
       "    <tr>\n",
       "      <th>3</th>\n",
       "      <td>5/9/2008</td>\n",
       "      <td>156.520004</td>\n",
       "      <td>0.004041</td>\n",
       "    </tr>\n",
       "    <tr>\n",
       "      <th>4</th>\n",
       "      <td>5/12/2008</td>\n",
       "      <td>162.500000</td>\n",
       "      <td>0.038206</td>\n",
       "    </tr>\n",
       "    <tr>\n",
       "      <th>5</th>\n",
       "      <td>5/13/2008</td>\n",
       "      <td>158.479996</td>\n",
       "      <td>-0.024738</td>\n",
       "    </tr>\n",
       "  </tbody>\n",
       "</table>\n",
       "</div>"
      ],
      "text/plain": [
       "        Date       Close      gain\n",
       "1   5/7/2008  153.309998  0.014290\n",
       "2   5/8/2008  155.889999  0.016829\n",
       "3   5/9/2008  156.520004  0.004041\n",
       "4  5/12/2008  162.500000  0.038206\n",
       "5  5/13/2008  158.479996 -0.024738"
      ]
     },
     "execution_count": 17,
     "metadata": {},
     "output_type": "execute_result"
    }
   ],
   "source": [
    "import numpy as np\n",
    "import pandas as pd\n",
    "from scipy import stats\n",
    "import matplotlib.pyplot as plt\n",
    "import seaborn as sns\n",
    "\n",
    "df = pd.read_csv(\"BSE_30.csv\")\n",
    "df.head()\n",
    "df = df[[\"Date\",\"Close\"]]\n",
    "df.head()\n",
    "\n",
    "df[\"gain\"] = df.Close.pct_change(periods = 1)\n",
    "df.dropna().head()"
   ]
  },
  {
   "cell_type": "code",
   "execution_count": 20,
   "metadata": {},
   "outputs": [
    {
     "data": {
      "text/html": [
       "<div>\n",
       "<style scoped>\n",
       "    .dataframe tbody tr th:only-of-type {\n",
       "        vertical-align: middle;\n",
       "    }\n",
       "\n",
       "    .dataframe tbody tr th {\n",
       "        vertical-align: top;\n",
       "    }\n",
       "\n",
       "    .dataframe thead th {\n",
       "        text-align: right;\n",
       "    }\n",
       "</style>\n",
       "<table border=\"1\" class=\"dataframe\">\n",
       "  <thead>\n",
       "    <tr style=\"text-align: right;\">\n",
       "      <th></th>\n",
       "      <th>Symbol</th>\n",
       "      <th>Open</th>\n",
       "      <th>High</th>\n",
       "      <th>Low</th>\n",
       "      <th>Close</th>\n",
       "      <th>Adj Close</th>\n",
       "      <th>Volume</th>\n",
       "    </tr>\n",
       "    <tr>\n",
       "      <th>Date</th>\n",
       "      <th></th>\n",
       "      <th></th>\n",
       "      <th></th>\n",
       "      <th></th>\n",
       "      <th></th>\n",
       "      <th></th>\n",
       "      <th></th>\n",
       "    </tr>\n",
       "  </thead>\n",
       "  <tbody>\n",
       "    <tr>\n",
       "      <th>2008-05-06</th>\n",
       "      <td>ADANIPORTS</td>\n",
       "      <td>150.000000</td>\n",
       "      <td>153.570007</td>\n",
       "      <td>147.820007</td>\n",
       "      <td>151.149994</td>\n",
       "      <td>134.313477</td>\n",
       "      <td>1782030.0</td>\n",
       "    </tr>\n",
       "    <tr>\n",
       "      <th>2008-05-07</th>\n",
       "      <td>ADANIPORTS</td>\n",
       "      <td>152.000000</td>\n",
       "      <td>154.460007</td>\n",
       "      <td>150.240005</td>\n",
       "      <td>153.309998</td>\n",
       "      <td>136.232864</td>\n",
       "      <td>1180015.0</td>\n",
       "    </tr>\n",
       "    <tr>\n",
       "      <th>2008-05-08</th>\n",
       "      <td>ADANIPORTS</td>\n",
       "      <td>152.199997</td>\n",
       "      <td>156.759995</td>\n",
       "      <td>150.199997</td>\n",
       "      <td>155.889999</td>\n",
       "      <td>138.525497</td>\n",
       "      <td>1856245.0</td>\n",
       "    </tr>\n",
       "    <tr>\n",
       "      <th>2008-05-09</th>\n",
       "      <td>ADANIPORTS</td>\n",
       "      <td>155.000000</td>\n",
       "      <td>160.600006</td>\n",
       "      <td>154.210007</td>\n",
       "      <td>156.520004</td>\n",
       "      <td>139.085312</td>\n",
       "      <td>3251375.0</td>\n",
       "    </tr>\n",
       "    <tr>\n",
       "      <th>2008-05-12</th>\n",
       "      <td>ADANIPORTS</td>\n",
       "      <td>156.000000</td>\n",
       "      <td>163.479996</td>\n",
       "      <td>151.000000</td>\n",
       "      <td>162.500000</td>\n",
       "      <td>144.399170</td>\n",
       "      <td>5031635.0</td>\n",
       "    </tr>\n",
       "  </tbody>\n",
       "</table>\n",
       "</div>"
      ],
      "text/plain": [
       "                Symbol        Open        High         Low       Close  \\\n",
       "Date                                                                     \n",
       "2008-05-06  ADANIPORTS  150.000000  153.570007  147.820007  151.149994   \n",
       "2008-05-07  ADANIPORTS  152.000000  154.460007  150.240005  153.309998   \n",
       "2008-05-08  ADANIPORTS  152.199997  156.759995  150.199997  155.889999   \n",
       "2008-05-09  ADANIPORTS  155.000000  160.600006  154.210007  156.520004   \n",
       "2008-05-12  ADANIPORTS  156.000000  163.479996  151.000000  162.500000   \n",
       "\n",
       "             Adj Close     Volume  \n",
       "Date                               \n",
       "2008-05-06  134.313477  1782030.0  \n",
       "2008-05-07  136.232864  1180015.0  \n",
       "2008-05-08  138.525497  1856245.0  \n",
       "2008-05-09  139.085312  3251375.0  \n",
       "2008-05-12  144.399170  5031635.0  "
      ]
     },
     "execution_count": 20,
     "metadata": {},
     "output_type": "execute_result"
    }
   ],
   "source": [
    "import numpy as np\n",
    "import pandas as pd\n",
    "import seaborn as sns\n",
    "import matplotlib.pyplot as plt\n",
    "from pylab import rcParams\n",
    "from statsmodels.tsa.seasonal import seasonal_decompose\n",
    "rcParams['figure.figsize'] = 15 , 8\n",
    "\n",
    "stock_price = pd.read_csv('BSE_30.csv',parse_dates=['Date'],index_col=('Date'))\n",
    "stock_price.head()"
   ]
  },
  {
   "cell_type": "code",
   "execution_count": 28,
   "metadata": {},
   "outputs": [
    {
     "data": {
      "text/plain": [
       "Symbol       0\n",
       "Open         0\n",
       "High         0\n",
       "Low          0\n",
       "Close        0\n",
       "Adj Close    0\n",
       "Volume       0\n",
       "dtype: int64"
      ]
     },
     "execution_count": 28,
     "metadata": {},
     "output_type": "execute_result"
    }
   ],
   "source": [
    "adani_ports.isnull().sum()"
   ]
  },
  {
   "cell_type": "code",
   "execution_count": 30,
   "metadata": {},
   "outputs": [
    {
     "data": {
      "text/html": [
       "<div>\n",
       "<style scoped>\n",
       "    .dataframe tbody tr th:only-of-type {\n",
       "        vertical-align: middle;\n",
       "    }\n",
       "\n",
       "    .dataframe tbody tr th {\n",
       "        vertical-align: top;\n",
       "    }\n",
       "\n",
       "    .dataframe thead th {\n",
       "        text-align: right;\n",
       "    }\n",
       "</style>\n",
       "<table border=\"1\" class=\"dataframe\">\n",
       "  <thead>\n",
       "    <tr style=\"text-align: right;\">\n",
       "      <th></th>\n",
       "      <th>Symbol</th>\n",
       "      <th>Open</th>\n",
       "      <th>High</th>\n",
       "      <th>Low</th>\n",
       "      <th>Close</th>\n",
       "      <th>Adj Close</th>\n",
       "      <th>Volume</th>\n",
       "    </tr>\n",
       "    <tr>\n",
       "      <th>Date</th>\n",
       "      <th></th>\n",
       "      <th></th>\n",
       "      <th></th>\n",
       "      <th></th>\n",
       "      <th></th>\n",
       "      <th></th>\n",
       "      <th></th>\n",
       "    </tr>\n",
       "  </thead>\n",
       "  <tbody>\n",
       "    <tr>\n",
       "      <th>2008-05-06</th>\n",
       "      <td>ICICIBANK</td>\n",
       "      <td>169.636002</td>\n",
       "      <td>171.272995</td>\n",
       "      <td>166.927002</td>\n",
       "      <td>168.735992</td>\n",
       "      <td>76.248047</td>\n",
       "      <td>4793904.0</td>\n",
       "    </tr>\n",
       "    <tr>\n",
       "      <th>2008-05-07</th>\n",
       "      <td>ICICIBANK</td>\n",
       "      <td>168.727005</td>\n",
       "      <td>168.727005</td>\n",
       "      <td>164.182007</td>\n",
       "      <td>167.063995</td>\n",
       "      <td>75.492500</td>\n",
       "      <td>3533305.0</td>\n",
       "    </tr>\n",
       "    <tr>\n",
       "      <th>2008-05-08</th>\n",
       "      <td>ICICIBANK</td>\n",
       "      <td>165.455002</td>\n",
       "      <td>166.000000</td>\n",
       "      <td>160.544998</td>\n",
       "      <td>162.054993</td>\n",
       "      <td>73.229057</td>\n",
       "      <td>8596885.0</td>\n",
       "    </tr>\n",
       "    <tr>\n",
       "      <th>2008-05-09</th>\n",
       "      <td>ICICIBANK</td>\n",
       "      <td>160.000000</td>\n",
       "      <td>164.126999</td>\n",
       "      <td>157.136002</td>\n",
       "      <td>158.917999</td>\n",
       "      <td>71.811516</td>\n",
       "      <td>8006180.0</td>\n",
       "    </tr>\n",
       "    <tr>\n",
       "      <th>2008-05-12</th>\n",
       "      <td>ICICIBANK</td>\n",
       "      <td>156.817993</td>\n",
       "      <td>161.636002</td>\n",
       "      <td>156.572998</td>\n",
       "      <td>159.699997</td>\n",
       "      <td>72.164879</td>\n",
       "      <td>4799866.0</td>\n",
       "    </tr>\n",
       "  </tbody>\n",
       "</table>\n",
       "</div>"
      ],
      "text/plain": [
       "               Symbol        Open        High         Low       Close  \\\n",
       "Date                                                                    \n",
       "2008-05-06  ICICIBANK  169.636002  171.272995  166.927002  168.735992   \n",
       "2008-05-07  ICICIBANK  168.727005  168.727005  164.182007  167.063995   \n",
       "2008-05-08  ICICIBANK  165.455002  166.000000  160.544998  162.054993   \n",
       "2008-05-09  ICICIBANK  160.000000  164.126999  157.136002  158.917999   \n",
       "2008-05-12  ICICIBANK  156.817993  161.636002  156.572998  159.699997   \n",
       "\n",
       "            Adj Close     Volume  \n",
       "Date                              \n",
       "2008-05-06  76.248047  4793904.0  \n",
       "2008-05-07  75.492500  3533305.0  \n",
       "2008-05-08  73.229057  8596885.0  \n",
       "2008-05-09  71.811516  8006180.0  \n",
       "2008-05-12  72.164879  4799866.0  "
      ]
     },
     "execution_count": 30,
     "metadata": {},
     "output_type": "execute_result"
    }
   ],
   "source": [
    "icici_bank = stock_price[stock_price['Symbol'] == 'ICICIBANK']\n",
    "icici_bank.head()"
   ]
  },
  {
   "cell_type": "code",
   "execution_count": 31,
   "metadata": {},
   "outputs": [
    {
     "data": {
      "text/plain": [
       "Symbol       0\n",
       "Open         7\n",
       "High         7\n",
       "Low          7\n",
       "Close        7\n",
       "Adj Close    7\n",
       "Volume       7\n",
       "dtype: int64"
      ]
     },
     "execution_count": 31,
     "metadata": {},
     "output_type": "execute_result"
    }
   ],
   "source": [
    "icici_bank.isnull().sum()"
   ]
  },
  {
   "cell_type": "code",
   "execution_count": 39,
   "metadata": {},
   "outputs": [
    {
     "data": {
      "text/plain": [
       "Symbol          0\n",
       "Open         2469\n",
       "High         2469\n",
       "Low          2469\n",
       "Close        2469\n",
       "Adj Close    2469\n",
       "Volume       2469\n",
       "dtype: int64"
      ]
     },
     "execution_count": 39,
     "metadata": {},
     "output_type": "execute_result"
    }
   ],
   "source": [
    "icici_bank.isnull().sum()"
   ]
  },
  {
   "cell_type": "code",
   "execution_count": 41,
   "metadata": {},
   "outputs": [],
   "source": [
    "def impute(dataset,variable):\n",
    "    \n",
    "    df = dataset.copy()\n",
    "    df['new_variable'] = df[variable]\n",
    "    \n",
    "    random_samples = df[variable].dropna().sample(df[variable].isnull().sum(),random_state = 0)\n",
    "    random_samples.index = df[df[variable].isnull()].index\n",
    "    df.loc[df[variable].isnull() , 'new_variable'] = random_samples\n",
    "    return df['new_variable']\n"
   ]
  },
  {
   "cell_type": "code",
   "execution_count": 42,
   "metadata": {},
   "outputs": [
    {
     "ename": "ValueError",
     "evalue": "a must be greater than 0 unless no samples are taken",
     "output_type": "error",
     "traceback": [
      "\u001b[1;31m---------------------------------------------------------------------------\u001b[0m",
      "\u001b[1;31mValueError\u001b[0m                                Traceback (most recent call last)",
      "\u001b[1;32m<ipython-input-42-968d575a9286>\u001b[0m in \u001b[0;36m<module>\u001b[1;34m\u001b[0m\n\u001b[1;32m----> 1\u001b[1;33m \u001b[0micici_bank\u001b[0m\u001b[1;33m[\u001b[0m\u001b[1;34m'Close'\u001b[0m\u001b[1;33m]\u001b[0m \u001b[1;33m=\u001b[0m \u001b[0mimpute\u001b[0m\u001b[1;33m(\u001b[0m\u001b[0micici_bank\u001b[0m\u001b[1;33m,\u001b[0m\u001b[1;34m'Close'\u001b[0m\u001b[1;33m)\u001b[0m\u001b[1;33m\u001b[0m\u001b[1;33m\u001b[0m\u001b[0m\n\u001b[0m",
      "\u001b[1;32m<ipython-input-41-fb5bf96e8d2f>\u001b[0m in \u001b[0;36mimpute\u001b[1;34m(dataset, variable)\u001b[0m\n\u001b[0;32m      4\u001b[0m     \u001b[0mdf\u001b[0m\u001b[1;33m[\u001b[0m\u001b[1;34m'new_variable'\u001b[0m\u001b[1;33m]\u001b[0m \u001b[1;33m=\u001b[0m \u001b[0mdf\u001b[0m\u001b[1;33m[\u001b[0m\u001b[0mvariable\u001b[0m\u001b[1;33m]\u001b[0m\u001b[1;33m\u001b[0m\u001b[1;33m\u001b[0m\u001b[0m\n\u001b[0;32m      5\u001b[0m \u001b[1;33m\u001b[0m\u001b[0m\n\u001b[1;32m----> 6\u001b[1;33m     \u001b[0mrandom_samples\u001b[0m \u001b[1;33m=\u001b[0m \u001b[0mdf\u001b[0m\u001b[1;33m[\u001b[0m\u001b[0mvariable\u001b[0m\u001b[1;33m]\u001b[0m\u001b[1;33m.\u001b[0m\u001b[0mdropna\u001b[0m\u001b[1;33m(\u001b[0m\u001b[1;33m)\u001b[0m\u001b[1;33m.\u001b[0m\u001b[0msample\u001b[0m\u001b[1;33m(\u001b[0m\u001b[0mdf\u001b[0m\u001b[1;33m[\u001b[0m\u001b[0mvariable\u001b[0m\u001b[1;33m]\u001b[0m\u001b[1;33m.\u001b[0m\u001b[0misnull\u001b[0m\u001b[1;33m(\u001b[0m\u001b[1;33m)\u001b[0m\u001b[1;33m.\u001b[0m\u001b[0msum\u001b[0m\u001b[1;33m(\u001b[0m\u001b[1;33m)\u001b[0m\u001b[1;33m,\u001b[0m\u001b[0mrandom_state\u001b[0m \u001b[1;33m=\u001b[0m \u001b[1;36m0\u001b[0m\u001b[1;33m)\u001b[0m\u001b[1;33m\u001b[0m\u001b[1;33m\u001b[0m\u001b[0m\n\u001b[0m\u001b[0;32m      7\u001b[0m     \u001b[0mrandom_samples\u001b[0m\u001b[1;33m.\u001b[0m\u001b[0mindex\u001b[0m \u001b[1;33m=\u001b[0m \u001b[0mdf\u001b[0m\u001b[1;33m[\u001b[0m\u001b[0mdf\u001b[0m\u001b[1;33m[\u001b[0m\u001b[0mvariable\u001b[0m\u001b[1;33m]\u001b[0m\u001b[1;33m.\u001b[0m\u001b[0misnull\u001b[0m\u001b[1;33m(\u001b[0m\u001b[1;33m)\u001b[0m\u001b[1;33m]\u001b[0m\u001b[1;33m.\u001b[0m\u001b[0mindex\u001b[0m\u001b[1;33m\u001b[0m\u001b[1;33m\u001b[0m\u001b[0m\n\u001b[0;32m      8\u001b[0m     \u001b[0mdf\u001b[0m\u001b[1;33m.\u001b[0m\u001b[0mloc\u001b[0m\u001b[1;33m[\u001b[0m\u001b[0mdf\u001b[0m\u001b[1;33m[\u001b[0m\u001b[0mvariable\u001b[0m\u001b[1;33m]\u001b[0m\u001b[1;33m.\u001b[0m\u001b[0misnull\u001b[0m\u001b[1;33m(\u001b[0m\u001b[1;33m)\u001b[0m \u001b[1;33m,\u001b[0m \u001b[1;34m'new_variable'\u001b[0m\u001b[1;33m]\u001b[0m \u001b[1;33m=\u001b[0m \u001b[0mrandom_samples\u001b[0m\u001b[1;33m\u001b[0m\u001b[1;33m\u001b[0m\u001b[0m\n",
      "\u001b[1;32m~\\anaconda3\\lib\\site-packages\\pandas\\core\\generic.py\u001b[0m in \u001b[0;36msample\u001b[1;34m(self, n, frac, replace, weights, random_state, axis)\u001b[0m\n\u001b[0;32m   5059\u001b[0m             )\n\u001b[0;32m   5060\u001b[0m \u001b[1;33m\u001b[0m\u001b[0m\n\u001b[1;32m-> 5061\u001b[1;33m         \u001b[0mlocs\u001b[0m \u001b[1;33m=\u001b[0m \u001b[0mrs\u001b[0m\u001b[1;33m.\u001b[0m\u001b[0mchoice\u001b[0m\u001b[1;33m(\u001b[0m\u001b[0maxis_length\u001b[0m\u001b[1;33m,\u001b[0m \u001b[0msize\u001b[0m\u001b[1;33m=\u001b[0m\u001b[0mn\u001b[0m\u001b[1;33m,\u001b[0m \u001b[0mreplace\u001b[0m\u001b[1;33m=\u001b[0m\u001b[0mreplace\u001b[0m\u001b[1;33m,\u001b[0m \u001b[0mp\u001b[0m\u001b[1;33m=\u001b[0m\u001b[0mweights\u001b[0m\u001b[1;33m)\u001b[0m\u001b[1;33m\u001b[0m\u001b[1;33m\u001b[0m\u001b[0m\n\u001b[0m\u001b[0;32m   5062\u001b[0m         \u001b[1;32mreturn\u001b[0m \u001b[0mself\u001b[0m\u001b[1;33m.\u001b[0m\u001b[0mtake\u001b[0m\u001b[1;33m(\u001b[0m\u001b[0mlocs\u001b[0m\u001b[1;33m,\u001b[0m \u001b[0maxis\u001b[0m\u001b[1;33m=\u001b[0m\u001b[0maxis\u001b[0m\u001b[1;33m)\u001b[0m\u001b[1;33m\u001b[0m\u001b[1;33m\u001b[0m\u001b[0m\n\u001b[0;32m   5063\u001b[0m \u001b[1;33m\u001b[0m\u001b[0m\n",
      "\u001b[1;32mmtrand.pyx\u001b[0m in \u001b[0;36mnumpy.random.mtrand.RandomState.choice\u001b[1;34m()\u001b[0m\n",
      "\u001b[1;31mValueError\u001b[0m: a must be greater than 0 unless no samples are taken"
     ]
    }
   ],
   "source": [
    "icici_bank['Close'] = impute(icici_bank,'Close')"
   ]
  },
  {
   "cell_type": "code",
   "execution_count": null,
   "metadata": {},
   "outputs": [],
   "source": []
  },
  {
   "cell_type": "code",
   "execution_count": null,
   "metadata": {},
   "outputs": [],
   "source": []
  }
 ],
 "metadata": {
  "kernelspec": {
   "display_name": "Python 3",
   "language": "python",
   "name": "python3"
  },
  "language_info": {
   "codemirror_mode": {
    "name": "ipython",
    "version": 3
   },
   "file_extension": ".py",
   "mimetype": "text/x-python",
   "name": "python",
   "nbconvert_exporter": "python",
   "pygments_lexer": "ipython3",
   "version": "3.8.3"
  }
 },
 "nbformat": 4,
 "nbformat_minor": 2
}
